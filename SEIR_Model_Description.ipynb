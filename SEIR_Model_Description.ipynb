{
 "cells": [
  {
   "attachments": {},
   "cell_type": "markdown",
   "metadata": {},
   "source": [
    "# EPIDEMIC MODELS AND DATA PRE-PROCESSING"
   ]
  },
  {
   "attachments": {},
   "cell_type": "markdown",
   "metadata": {},
   "source": [
    "In this part you will build upon the SIR model that we saw in Lab1 and extend it to include the class for the Exposed population. You will define the system of ODEs, plotting functions, and solve the problem given some parameters. You will learn how to use the scipy library to solve differential equations and do some baseline scientific computing! The task here is to see how by using python we can model a disease's spread in a city or population, do data analysis and visualize our results.  The advanced task of this part introduces a lockdown policy in the population."
   ]
  },
  {
   "attachments": {},
   "cell_type": "markdown",
   "metadata": {},
   "source": [
    "##  Grading: \n",
    "\n",
    "1. Basic tasks: points  2\n",
    "2. Advanced tasks: points 2\n",
    "3. Total points: 4\n",
    "\n"
   ]
  },
  {
   "cell_type": "code",
   "execution_count": 37,
   "metadata": {},
   "outputs": [],
   "source": [
    "#these are the libraries that you will need throughout the assignment\n",
    "from scipy.integrate import odeint\n",
    "import numpy as np \n",
    "import pandas as pd\n",
    "import matplotlib.pyplot as plt \n",
    "import seaborn as sns\n",
    "%matplotlib inline\n",
    "from SEIR_Model_Description_helper import *\n"
   ]
  },
  {
   "cell_type": "code",
   "execution_count": 38,
   "metadata": {},
   "outputs": [
    {
     "data": {
      "text/plain": [
       "'1.0.2'"
      ]
     },
     "execution_count": 38,
     "metadata": {},
     "output_type": "execute_result"
    }
   ],
   "source": [
    "import sklearn\n",
    "sklearn.__version__"
   ]
  },
  {
   "attachments": {},
   "cell_type": "markdown",
   "metadata": {},
   "source": [
    "## PART 1: EPIDEMIC MODELS"
   ]
  },
  {
   "attachments": {},
   "cell_type": "markdown",
   "metadata": {},
   "source": [
    "## 1. SEIR \n"
   ]
  },
  {
   "attachments": {},
   "cell_type": "markdown",
   "metadata": {},
   "source": [
    "Note: This is a similart version to the SEIR model found in wiki, without the vital dynamics: https://en.wikipedia.org/wiki/Compartmental_models_in_epidemiology#The_SEIR_model. For this homework we removed the vital dynamics from the model (reference: https://www.idmod.org/docs/emod/hiv/model-seir.html#seir-without-vital-dynamics ) to make it simpler (no births, no deaths in the population) \n",
    "\n",
    "\n",
    "Many infectious diseases have an incubation period before being infectious during which the host cannot yet spread the disease.\n",
    "This delay between the acquisition of infection and the infectious state can be incorporated within the SIR model by adding a latent/exposed population, E, and letting infected (but not yet infectious) individuals move from S to E and from E to I.\n",
    "\n",
    "\n",
    "$\\frac{dS}{dt} = -\\beta*I*\\frac{S}{N}$\n",
    "\n",
    "$\\frac{dE}{dt} = \\beta*I*\\frac{S}{N} - \\delta*E$\n",
    "\n",
    "$\\frac{dI}{dt} = \\delta*E - \\gamma*I$\n",
    "\n",
    "$\\frac{dR}{dt} = \\gamma*I$\n",
    "\n",
    "\n",
    "The infectious rate, $\\beta$, controls the rate of spread which represents the probability of transmitting a disease between a susceptible and an infectious individual. The incubation rate, $\\delta$, is the rate of latent individuals becoming infectious (average duration of incubation is $\\frac{1}{\\delta}$). Recovery rate, $\\gamma$ = 1/D, is determined by the average duration, D, of infection. "
   ]
  },
  {
   "attachments": {},
   "cell_type": "markdown",
   "metadata": {},
   "source": [
    "### a. System of ODEs\n"
   ]
  },
  {
   "attachments": {},
   "cell_type": "markdown",
   "metadata": {},
   "source": [
    "In the function named deriv_seir:\n",
    "- implement the above system of ODEs for SEIR, in python"
   ]
  },
  {
   "cell_type": "code",
   "execution_count": 39,
   "metadata": {},
   "outputs": [],
   "source": [
    "def deriv_seir(y, t, N, beta, gamma, delta):\n",
    "    \"\"\"\n",
    "    Input: y, time grid, N: total population, beta: infectious rate, gamma: recovery rate, delta: incubation period \n",
    "    Output: dSdt, dEdt, dIdt, dRdt\n",
    "    Transform the above system of ODEs in python\n",
    "    \"\"\"\n",
    "    S, E, I, R = y\n",
    "    \n",
    "    #Write your code here\n",
    "    \n",
    "    S, E, I, R = y\n",
    "\n",
    "    dSdt = -beta * I * S/N \n",
    "\n",
    "    dEdt = beta * I * S/N - delta * E\n",
    "\n",
    "    dIdt = delta * E - gamma * I \n",
    "\n",
    "    dRdt = gamma * I \n",
    "\n",
    "    return dSdt, dEdt, dIdt, dRdt\n"
   ]
  },
  {
   "attachments": {},
   "cell_type": "markdown",
   "metadata": {},
   "source": [
    "### b. Parameter definition and solving the model"
   ]
  },
  {
   "attachments": {},
   "cell_type": "markdown",
   "metadata": {},
   "source": [
    "In the function named model_seir, given the model parameters, define:\n",
    "- the initial conditions (one exposed, rest susceptible), \n",
    "- the grid of time-points in days (150 days), \n",
    "- the initial conditions vector and \n",
    "- finally solve the system of ODEs. "
   ]
  },
  {
   "cell_type": "code",
   "execution_count": 40,
   "metadata": {},
   "outputs": [],
   "source": [
    "def model_seir(N, beta, gamma, delta):\n",
    "    \"\"\"\n",
    "    Input: N:total population, beta: infectious rate, gamma: recovery rate, delta: incubation period \n",
    "    Output: time, S, E, I, R\n",
    "\n",
    "    step1: define the initial conditions: one exposed, rest susceptible\n",
    "    step2: define the grid of time points in days (use 150 days)\n",
    "    step3: define the initital conditions vector y0\n",
    "    step3: solve the system of ODEs using odeint from scipy\n",
    "    \"\"\"\n",
    "    #Write your code here\n",
    "\n",
    "    # Initial number of infected and reovered individuals, I0 and R0\n",
    "\n",
    "    #I0, R0 = 1, 0\n",
    "\n",
    "    # Step 1: define the initial conditions: one exposed, rest susceptible \n",
    "    # Everyone else, S0, is suscpetible to infection initially. \n",
    "\n",
    "    #S0 = N - I0 - R0 \n",
    "\n",
    "    #E0, I0, R0 = 1, 1, 0\n",
    "\n",
    "    #S0 = N - E0 - I0 - R0\n",
    "\n",
    "    S0, E0, I0, R0 = N-1, 1, 0, 0  \n",
    "\n",
    "    #S0, I0, R0 = N, 1, 0\n",
    "\n",
    "    # Step 2: define the grid of time points in days (use 150 days) \n",
    "\n",
    "    t = np.linspace(0, 149, 150) \n",
    "\n",
    "    # Step 3: define the initial conditions vector y0\n",
    "\n",
    "    y0 = S0, E0, I0, R0\n",
    "\n",
    "    # Step 4: solve the system of ODEs using odeint from scipy\n",
    "\n",
    "    ret = odeint(deriv_seir, y0, t, args = (N, beta, gamma, delta)) \n",
    "\n",
    "\n",
    "    S, E, I, R = ret.T \n",
    "\n",
    "\n",
    "    return t, S, E, I, R"
   ]
  },
  {
   "cell_type": "code",
   "execution_count": 41,
   "metadata": {},
   "outputs": [],
   "source": [
    "#These are the model parameters, do not change them.\n",
    "N = 1000\n",
    "beta = 1.0\n",
    "D = 10\n",
    "gamma = 1.0/D\n",
    "delta = 1.0/5.0"
   ]
  },
  {
   "cell_type": "code",
   "execution_count": 42,
   "metadata": {},
   "outputs": [],
   "source": [
    "#calling the model_seir function that you defined above and storing the results in t, S, E, I, R\n",
    "t, S, E, I, R = model_seir(N, beta, gamma, delta)"
   ]
  },
  {
   "cell_type": "code",
   "execution_count": 43,
   "metadata": {},
   "outputs": [
    {
     "name": "stdout",
     "output_type": "stream",
     "text": [
      "SEIR model test\n",
      "The time grid is correct\n",
      "The susceptible population array is correct\n",
      "The exposed population array is correct\n",
      "The infected population array is correct\n",
      "The recovered population array is correct\n"
     ]
    }
   ],
   "source": [
    "#If you complete the method, you can run the following line to check whether your functions are correct or not. \n",
    "check_model_seir(t,S,E,I,R)"
   ]
  },
  {
   "attachments": {},
   "cell_type": "markdown",
   "metadata": {},
   "source": [
    "### c. Plot function\n"
   ]
  },
  {
   "attachments": {},
   "cell_type": "markdown",
   "metadata": {},
   "source": [
    "In the function called plot_seir(): \n",
    "- plot the S, E, I, R compartments. \n",
    "- include a dashed line for the total number of the population (S+E+I+R).\n",
    "- include labels that depict which line is for which population (using legend)\n",
    "\n",
    "\n",
    "Specifically the plot should contain: \n",
    "\n",
    "- On the x-axis: the population\n",
    "\n",
    "- On the y-axis: Time in days\n",
    " \n",
    "\n",
    "In the function below you will notice that in the list of parameters is included (...., L=None). The purpose of this parameter is to add a title regarding the lockdown day that you will see in the advanced task. For this part it will not print anything. Do not remove it or change it, even if it does not do anything, as you will need it for the next part."
   ]
  },
  {
   "cell_type": "code",
   "execution_count": 46,
   "metadata": {},
   "outputs": [],
   "source": [
    "def plot_seir(t,S,E,I,R,L=None):\n",
    "    \"\"\"\n",
    "    Input: t, S, E, I, R, L (the L parameter is for the next question that introduces a lockdown, for this part it will not do anything so do not change L=None)\n",
    "     \n",
    "\n",
    "    step1: create the figure and subplots with nrows=1 and and ncols=1.\n",
    "    step2: plot the susceptible, exposed, infected, recovered, and total population\n",
    "    step3: set x and y label and tick parameters\n",
    "    step4: add the corresponding names of each line using legend\n",
    "     \n",
    "    \"\"\"\n",
    "    #Write your code here\n",
    "    f, ax = plt.subplots(1, 1, figsize = (10, 4))\n",
    "\n",
    "    ax.plot(t, S, \"b\", linewidth = 2, label = \"Susceptible\")\n",
    "    ax.plot(t, E, \"y\", linewidth = 2, label = \"Exposed\")\n",
    "    ax.plot(t, I, \"r\", linewidth = 2, label = \"Infected\")\n",
    "    ax.plot(t, R, \"g\", linewidth = 2, label = \"Recovered\")\n",
    "    ax.plot(t, S+E+I+R, \"c\", linestyle = \"dashed\", linewidth = 1, label = \"Total\")\n",
    "    ax.set_xlabel(\"Time /days\")\n",
    "    ax.set_ylabel(\"Population\")\n",
    "\n",
    "    #ax.grid(b = True, which = \"major\")\n",
    "    ax.grid(visible=True, which=\"major\")\n",
    "\n",
    "\n",
    "    legend = ax.legend() \n",
    "\n",
    "    \n",
    "    if L is not None:\n",
    "        plt.title(\"Lockdown after {} days\".format(L))\n",
    "    plt.show();"
   ]
  },
  {
   "cell_type": "code",
   "execution_count": 47,
   "metadata": {},
   "outputs": [
    {
     "data": {
      "image/png": "[encoded data removed]",
      "text/plain": [
       "<Figure size 720x288 with 1 Axes>"
      ]
     },
     "metadata": {
      "needs_background": "light"
     },
     "output_type": "display_data"
    }
   ],
   "source": [
    "#calling plot_seir here\n",
    "plot_seir(t,S,E,I,R)"
   ]
  },
  {
   "attachments": {},
   "cell_type": "markdown",
   "metadata": {},
   "source": [
    "## 2. Advanced Task: Lockdown\n"
   ]
  },
  {
   "attachments": {},
   "cell_type": "markdown",
   "metadata": {},
   "source": [
    "In this task you will build upon the previous model and you will introduce a Lockdown policy.\n",
    "Until now, the model you defined was highly unrealistic as the R0-value was constant. If a government introduces a lockdown in the country then the basic reproductive number(R0) drops! Meaning that you have to adapt the parameters to change over time.  \n",
    "\n",
    "Your task is as follows:\n",
    "\n",
    "- Re-write the system of ODEs for SEIR in the function called deriv_seir_lockdown. The reason why you should define the function again, is that, this time, the $\\beta$ is time dependent. Other than that, the system of ODEs remains the same. \n",
    "\n",
    "- Next, in the function, named model_seir_lockdown(), define:\n",
    "\n",
    "    -the time dependent $R_0$ and $\\beta$ as mentioned in 1, 2 just below the bullet points.\n",
    "\n",
    "    -the initial conditions (one exposed, rest susceptible), \n",
    "\n",
    "    -the grid of time-points in days (150 days), \n",
    "\n",
    "    -the initial conditions vector and \n",
    "    \n",
    "    -finally solve the system of ODEs. \n",
    "\n",
    "\n",
    "\n",
    "\n",
    "1. Time dependent $R_0$:\n",
    "\n",
    "\n",
    "Say that the lockdown is introduced on day 30 after the first case of the disease in the country. In that case the $R_0$ drops to 0.9 the day of the lockdown. The value of $R_0$ before that day was 5.7\n",
    "\n",
    "2. Time dependent $\\beta$:\n",
    "\n",
    "Remember that the definition of beta is $\\beta$ = $R_0$* $\\gamma$. If $R_0$ is time dependent then $\\beta$ is also time dependent.     \n",
    "\n",
    "\n",
    "To plot your model, the plot_seir() function that was defined in question .c is used again, but now in the list of parameters is also the lockdown.\n"
   ]
  },
  {
   "cell_type": "code",
   "execution_count": 48,
   "metadata": {},
   "outputs": [],
   "source": [
    "def deriv_seir_lockdown(y, t, N, beta, gamma, delta):\n",
    "    \"\"\"\n",
    "    Input: y, time grid, N: total population, beta: infectious rate, gamma: recovery rate, delta: incubation period \n",
    "    Output: dSdt, dEdt,  dIdt, dRdt\n",
    "  \n",
    "    Transform the above system of ODEs in python considering this time: time dependent beta\n",
    "\n",
    "    \"\"\"\n",
    "\n",
    "    S, E, I, R = y\n",
    "    #implement the new SEIR equations here. The SEIR equations are the same as defined above \n",
    "    \n",
    "    ##but now beta is time dependent!: beta(t)\n",
    "\n",
    "    dSdt = -beta(t) * I * S/N \n",
    "\n",
    "    dEdt = beta(t) * I * S/N - delta * E\n",
    "\n",
    "    dIdt = delta * E - gamma * I \n",
    "\n",
    "    dRdt = gamma * I\n",
    "\n",
    "\n",
    "    return dSdt, dEdt, dIdt, dRdt"
   ]
  },
  {
   "cell_type": "code",
   "execution_count": 49,
   "metadata": {},
   "outputs": [],
   "source": [
    "def model_seir_lockdown(gamma, delta):\n",
    "    \"\"\"\n",
    "    Input: gamma, delta\n",
    "    Output: t,S,E,I,R,L\n",
    "\n",
    "\n",
    "    step1: define, in R_0(t), the time dependent R0\n",
    "    step2: define, in beta(t), the time dependent beta\n",
    "    step3: set initial conditions, one exposed, rest susceptible\n",
    "    step4: fill in the grid of time points (in days) (you should consider 150 days)\n",
    "    step5: fill in the initial conditions vector\n",
    "    step5: use odeint from scipy to solve the system ODEs\n",
    "\n",
    "    \"\"\"\n",
    "    L = 30 #day of lockdown\n",
    "\n",
    "\n",
    "    def R_0(t):\n",
    "        #R0 equals to 5.7 if the current day is before the lockdown day (L) and R0 equals to 0.9 if the current day is equal or after the lockdown day (L)\n",
    "\n",
    "        #write your code here for R_0(t)\n",
    "        return 5.7 if t < L else 0.9\n",
    "    \n",
    "    def beta(t):\n",
    "        #remember beta = R0*gamma\n",
    "\n",
    "        #write your code here for beta(t)\n",
    "        return R_0(t) * gamma\n",
    "\n",
    "    #write your code here (after step3)\n",
    "    S0, E0, I0, R0 = N-1, 1, 0, 0  \n",
    "\n",
    "    #S0, I0, R0 = N, 1, 0\n",
    "\n",
    "    # Step 2: define the grid of time points in days (use 150 days) \n",
    "\n",
    "    t = np.linspace(0, 149, 150) \n",
    "\n",
    "    # Step 3: define the initial conditions vector y0\n",
    "\n",
    "    y0 = S0, E0, I0, R0\n",
    "\n",
    "    # Step 4: solve the system of ODEs using odeint from scipy\n",
    "\n",
    "    ret = odeint(deriv_seir_lockdown, y0, t,args = (N, beta, gamma, delta)) \n",
    "\n",
    "    S, E, I, R = ret.T \n",
    "\n",
    "    return t, S, E, I, R, L"
   ]
  },
  {
   "cell_type": "code",
   "execution_count": 50,
   "metadata": {},
   "outputs": [],
   "source": [
    "N=1000\n",
    "D = 10\n",
    "gamma = 1.0/D\n",
    "delta = 1.0/5.0"
   ]
  },
  {
   "cell_type": "code",
   "execution_count": 51,
   "metadata": {},
   "outputs": [],
   "source": [
    "#calling the model_seir_lockdown function that you defined above and storing the results in t, S, E, I, R, L\n",
    "t, S, E, I, R, L = model_seir_lockdown(gamma,delta)"
   ]
  },
  {
   "cell_type": "code",
   "execution_count": 52,
   "metadata": {},
   "outputs": [
    {
     "name": "stdout",
     "output_type": "stream",
     "text": [
      "SEIR model with lockdown test\n",
      "The time grid is correct\n",
      "The susceptible population array is correct\n",
      "The exposed population array is correct\n",
      "The infected population array is correct\n",
      "The recovered population array is correct\n",
      "Correct day of lockdown\n"
     ]
    }
   ],
   "source": [
    "#If you complete the method, you can run the following line to check whether your functions are correct or not. \n",
    "check_model_seir_lockdown(t,S,E,I,R,L)"
   ]
  },
  {
   "cell_type": "code",
   "execution_count": 53,
   "metadata": {},
   "outputs": [
    {
     "data": {
      "image/png": "[encoded data removed]",
      "text/plain": [
       "<Figure size 720x288 with 1 Axes>"
      ]
     },
     "metadata": {
      "needs_background": "light"
     },
     "output_type": "display_data"
    }
   ],
   "source": [
    "#calling plot_seir() here\n",
    "plot_seir(t, S, E, I, R, L)"
   ]
  }
 ],
 "metadata": {
  "kernelspec": {
   "display_name": "Python 3",
   "language": "python",
   "name": "python3"
  },
  "language_info": {
   "codemirror_mode": {
    "name": "ipython",
    "version": 3
   },
   "file_extension": ".py",
   "mimetype": "text/x-python",
   "name": "python",
   "nbconvert_exporter": "python",
   "pygments_lexer": "ipython3",
   "version": "3.10.11"
  }
 },
 "nbformat": 4,
 "nbformat_minor": 2
}
